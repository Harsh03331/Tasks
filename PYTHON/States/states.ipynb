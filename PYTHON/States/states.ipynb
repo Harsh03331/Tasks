{
 "cells": [
  {
   "cell_type": "code",
   "execution_count": 7,
   "id": "163ad7b3",
   "metadata": {},
   "outputs": [
    {
     "name": "stdout",
     "output_type": "stream",
     "text": [
      "Requirement already satisfied: xlsxwriter in c:\\users\\merit\\anaconda3\\lib\\site-packages (1.3.8)\n"
     ]
    }
   ],
   "source": [
    "import os\n",
    "os.chdir(r\"C:\\Users\\Merit\\Desktop\\PYTHON\\States\")\n",
    "import pandas as pd\n",
    "from selenium import webdriver\n",
    "!pip install xlsxwriter"
   ]
  },
  {
   "cell_type": "code",
   "execution_count": 8,
   "id": "b3b2287c",
   "metadata": {},
   "outputs": [
    {
     "name": "stderr",
     "output_type": "stream",
     "text": [
      "C:\\Users\\Merit\\anaconda3\\lib\\site-packages\\xlsxwriter\\workbook.py:336: UserWarning: Calling close() on already closed file.\n",
      "  warn(\"Calling close() on already closed file.\")\n"
     ]
    }
   ],
   "source": [
    "driver = webdriver.Chrome(executable_path = r\"C:\\Users\\Merit\\Downloads\\chromedriver_win32 (2)\\chromedriver.exe\")\n",
    "fname = \"statesdata.xlsx\"\n",
    "writer = pd.ExcelWriter(r\"C:\\\\Users\\\\Merit\\\\Desktop\\\\PYTHON\\\\States\\\\\"+\"\\\\\"+fname,engine = \"xlsxwriter\")\n",
    "driver.get(\"https://ai.fmcsa.dot.gov/hhg/Search.asp?ads=a&len=en\")\n",
    "driver.find_element_by_xpath(\"//label[contains(text(),'State')]//following::select\").click()\n",
    "for i in range(1,97):\n",
    "    state = driver.find_element_by_xpath(\"//option[contains(text(),'Please select state')]//following::option[\"+str(i)+\"]\")\n",
    "    state.click()\n",
    "    st = state.text\n",
    "    driver.find_element_by_xpath(\"//tbody/tr[1]/td[2]/input[3]\").click()\n",
    "    data = driver.find_element_by_xpath(\"//h2[contains(text(),'Search Results')]//following::td[13]\")\n",
    "    try:\n",
    "        rows = data.find_elements_by_tag_name(\"tr\")\n",
    "        head = rows[0].text.split(\" \")\n",
    "        head1 = head[0]+\"-\"+head[1]+\",\"+head[2]+\"-\"+head[3]+\",\"+head[4]+\"-\"+head[5]+\",\"+head[7]+\"-\"+head[8]\n",
    "        head2 = head1.split(\",\")\n",
    "        col = dict()\n",
    "        for head in head2:\n",
    "            col[head] = []\n",
    "        for rw in rows[1:]:\n",
    "            dt = rw.find_elements_by_tag_name(\"td\")\n",
    "            for n, i in zip(head2,dt):\n",
    "                val = i.text\n",
    "                if val.startswith(\" \\nNotes\"):\n",
    "                    break\n",
    "                else:\n",
    "                    col[n].append(val)\n",
    "            pd.DataFrame(col).to_excel(writer,sheet_name=st,index=False)\n",
    "    except:\n",
    "        pass\n",
    "    driver.back()\n",
    "driver.close()\n",
    "writer.save()\n",
    "writer.close()"
   ]
  },
  {
   "cell_type": "code",
   "execution_count": null,
   "id": "261cd9bd",
   "metadata": {},
   "outputs": [],
   "source": []
  }
 ],
 "metadata": {
  "kernelspec": {
   "display_name": "Python 3",
   "language": "python",
   "name": "python3"
  },
  "language_info": {
   "codemirror_mode": {
    "name": "ipython",
    "version": 3
   },
   "file_extension": ".py",
   "mimetype": "text/x-python",
   "name": "python",
   "nbconvert_exporter": "python",
   "pygments_lexer": "ipython3",
   "version": "3.8.8"
  }
 },
 "nbformat": 4,
 "nbformat_minor": 5
}
