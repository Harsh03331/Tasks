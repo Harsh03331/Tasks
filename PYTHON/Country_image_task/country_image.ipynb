{
 "cells": [
  {
   "cell_type": "code",
   "execution_count": 2,
   "id": "47055461",
   "metadata": {},
   "outputs": [
    {
     "data": {
      "text/plain": [
       "'C:\\\\Users\\\\Merit\\\\Desktop\\\\PYTHON\\\\Country_image_task\\\\images'"
      ]
     },
     "execution_count": 2,
     "metadata": {},
     "output_type": "execute_result"
    }
   ],
   "source": [
    "import selenium\n",
    "import os\n",
    "os.chdir(r'C:\\Users\\Merit\\Desktop\\PYTHON\\Country_image_task\\images')\n",
    "from selenium import webdriver\n",
    "os.getcwd()"
   ]
  },
  {
   "cell_type": "code",
   "execution_count": 3,
   "id": "60e124b7",
   "metadata": {},
   "outputs": [
    {
     "name": "stdout",
     "output_type": "stream",
     "text": [
      "country name: ['India', 'Ireland', 'Pakistan', 'Australia', 'Sri Lanka', 'Bangladesh', 'England', 'West Indies', 'South Africa', 'Zimbabwe', 'New Zealand', 'Afghanistan', 'Italy', 'Botswana', 'Iran', 'Belgium', 'Denmark', 'Singapore', 'Namibia', 'Canada', 'Uganda', 'Malaysia', 'Nepal', 'Bermuda', 'Netherlands', 'Scotland', 'United Arab Emirates', 'Hong Kong', 'Kenya', 'United States', 'Germany', 'Fiji', 'Kuwait', 'Vanuatu', 'Jersey', 'Oman', 'Papua New Guinea']\n"
     ]
    }
   ],
   "source": [
    "import selenium\n",
    "driver = webdriver.Chrome(executable_path = r\"C:\\Users\\Merit\\Downloads\\chromedriver_win32\\chromedriver.exe\")\n",
    "driver.get(\"https://www.cricbuzz.com/cricket-team\")\n",
    "country = driver.find_elements_by_xpath(\"//body/div[1]/div[2]/div[5]/div[1]\")\n",
    "lst = []\n",
    "for i in country:\n",
    "    lst.append(i.text)\n",
    "    l = lst[0].split('\\n')\n",
    "    print(\"country name:\",l)\n",
    "image = driver.find_elements_by_xpath(\"//div[contains(@class,'cb-col cb-col-25')]\")\n",
    "for i,j in zip(image,l):\n",
    "    with open(j+\".png\",\"wb\") as pic:\n",
    "        pic.write(i.screenshot_as_png)\n",
    "driver.close()"
   ]
  },
  {
   "cell_type": "code",
   "execution_count": null,
   "id": "3b97cba8",
   "metadata": {},
   "outputs": [],
   "source": []
  }
 ],
 "metadata": {
  "kernelspec": {
   "display_name": "Python 3",
   "language": "python",
   "name": "python3"
  },
  "language_info": {
   "codemirror_mode": {
    "name": "ipython",
    "version": 3
   },
   "file_extension": ".py",
   "mimetype": "text/x-python",
   "name": "python",
   "nbconvert_exporter": "python",
   "pygments_lexer": "ipython3",
   "version": "3.8.8"
  }
 },
 "nbformat": 4,
 "nbformat_minor": 5
}
